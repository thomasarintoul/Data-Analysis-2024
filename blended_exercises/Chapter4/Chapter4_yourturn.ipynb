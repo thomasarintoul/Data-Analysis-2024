{
 "cells": [
  {
   "cell_type": "markdown",
   "metadata": {
    "pycharm": {
     "name": "#%% md\n"
    }
   },
   "source": [
    "# To be completed at the Live Session and in your own time.\n",
    "\n",
    "These set of examples we will help you get familiar with estimating probabilities and using Bayes Theorem within a Jupyter notebook.  The questions coloured green are important practice for CA.\n",
    "\n",
    "Before attempting these examples, please ensure you have read through [Chapter 4 Jupyter Notebook](https://github.com/haleygomez/Data-Analysis-2024/blob/master/blended_exercises/Chapter4/Chapter4.ipynb) and have completed the Learning Central **Chapter 4 quiz**. \n",
    "\n",
    "These are good practice for CA 1 Question 5."
   ]
  },
  {
   "cell_type": "markdown",
   "metadata": {
    "pycharm": {
     "name": "#%% md\n"
    }
   },
   "source": [
    "***"
   ]
  },
  {
   "cell_type": "markdown",
   "metadata": {
    "pycharm": {
     "name": "#%% md\n"
    }
   },
   "source": [
    "# Errors"
   ]
  },
  {
   "cell_type": "markdown",
   "metadata": {
    "pycharm": {
     "name": "#%% md\n"
    }
   },
   "source": [
    "## Question "
   ]
  },
  {
   "cell_type": "markdown",
   "metadata": {
    "pycharm": {
     "name": "#%% md\n"
    }
   },
   "source": [
    "Three students measure the same resistance several times, with final measurements (in Ohms):\n",
    "\n",
    "Student 1: $R = 11 \\pm 1$\n",
    "Student 2: $R = 12 \\pm 1$\n",
    "Student 3: $R = 10 \\pm 3$.\n",
    "\n",
    "Given these three results what do we write down as the best estimate for the resistance $R$? Tip: you will need to use weighted errors."
   ]
  },
  {
   "cell_type": "markdown",
   "metadata": {
    "pycharm": {
     "name": "#%% md\n"
    }
   },
   "source": [
    "### Answer"
   ]
  },
  {
   "cell_type": "code",
   "execution_count": 9,
   "outputs": [],
   "source": [
    "import numpy as np\n",
    "import matplotlib.pyplot as plt"
   ],
   "metadata": {
    "collapsed": false,
    "pycharm": {
     "name": "#%%\n"
    }
   }
  },
  {
   "cell_type": "code",
   "execution_count": 10,
   "outputs": [
    {
     "name": "stdout",
     "output_type": "stream",
     "text": [
      "Resistance = 11.42 +/- 0.69\n"
     ]
    }
   ],
   "source": [
    "R = [11,12,10]\n",
    "Re = [1,1,3]\n",
    "\n",
    "def weighted(data, error):\n",
    "    weights = np.zeros(len(data))\n",
    "    for i in range(len(weights)):\n",
    "        weights[i] = 1/error[i]**2\n",
    "\n",
    "    w_avg = np.sum(weights*data)/np.sum(weights)\n",
    "    w_err = 1/np.sqrt(np.sum(weights))\n",
    "    return w_avg, w_err\n",
    "\n",
    "weighted_avg, weighted_err = weighted(R, Re)\n",
    "\n",
    "print(\"Resistance = {:.2f} +/- {:.2f}\".format(weighted_avg, weighted_err))"
   ],
   "metadata": {
    "collapsed": false,
    "pycharm": {
     "name": "#%%\n"
    }
   }
  },
  {
   "cell_type": "markdown",
   "metadata": {
    "pycharm": {
     "name": "#%% md\n"
    }
   },
   "source": [
    "***"
   ]
  },
  {
   "cell_type": "markdown",
   "metadata": {
    "pycharm": {
     "name": "#%% md\n"
    }
   },
   "source": [
    "# Correlation"
   ]
  },
  {
   "cell_type": "markdown",
   "metadata": {
    "pycharm": {
     "name": "#%% md\n"
    }
   },
   "source": [
    "## <font color=#30a64d>Question </font>"
   ]
  },
  {
   "cell_type": "markdown",
   "metadata": {
    "pycharm": {
     "name": "#%% md\n"
    }
   },
   "source": [
    "The datafile [worldpopulation.txt](https://github.com/haleygomez/Data-Analysis-2024/raw/master/blended_exercises/Chapter4/worldpopulation.txt) contains the world population size measured since 1960. Plot the data (you will need to upload the datafile to your Google Colab). <br><br>\n",
    "\n",
    "Measure the correlation coefficient using the in built Python package for the Pearson $r$s statistic. <br><br>\n",
    "\n",
    "Measure it again but this time creating the functions to calculate $r$ from scratch.  \n",
    "\n",
    "The url of the file is \"https://github.com/haleygomez/Data-Analysis-2024/raw/master/blended_exercises/Chapter4/worldpopulation.txt\""
   ]
  },
  {
   "cell_type": "markdown",
   "metadata": {
    "pycharm": {
     "name": "#%% md\n"
    }
   },
   "source": [
    "### Answer"
   ]
  },
  {
   "cell_type": "code",
   "execution_count": 22,
   "outputs": [
    {
     "name": "stdout",
     "output_type": "stream",
     "text": [
      "Using scipy pearsonr function, r = 0.99956\n",
      "Using own r coefficient function, r = 0.99956\n"
     ]
    },
    {
     "data": {
      "text/plain": "[<matplotlib.lines.Line2D at 0x235b8900460>]"
     },
     "execution_count": 22,
     "metadata": {},
     "output_type": "execute_result"
    },
    {
     "data": {
      "text/plain": "<Figure size 640x480 with 1 Axes>",
      "image/png": "[encoded data removed]"
     },
     "metadata": {},
     "output_type": "display_data"
    }
   ],
   "source": [
    "from scipy.stats import pearsonr\n",
    "\n",
    "pop_data = np.loadtxt(\"worldpopulation.txt\")\n",
    "\n",
    "corr, _ = pearsonr(pop_data[0,:], pop_data[1,:])\n",
    "\n",
    "def r_coeff(data1, data2):\n",
    "    mean1 = np.mean(data1)\n",
    "    mean2 = np.mean(data2)\n",
    "    numerator = np.sum((data1 - mean1)*(data2 - mean2))\n",
    "    denom_pt1 = np.sum((data1 - mean1)**2)\n",
    "    denom_pt2 = np.sum((data2 - mean2)**2)\n",
    "    r = numerator/np.sqrt(denom_pt1 * denom_pt2)\n",
    "    return r\n",
    "\n",
    "r_data = r_coeff(pop_data[0,:], pop_data[1,:])\n",
    "\n",
    "print(\"Using scipy pearsonr function, r = {:.5f}\".format(corr))\n",
    "print(\"Using own r coefficient function, r = {:.5f}\".format(r_data))\n",
    "\n",
    "\n",
    "plt.plot(pop_data[0,:], pop_data[1,:])"
   ],
   "metadata": {
    "collapsed": false,
    "pycharm": {
     "name": "#%%\n"
    }
   }
  },
  {
   "cell_type": "markdown",
   "metadata": {
    "pycharm": {
     "name": "#%% md\n"
    }
   },
   "source": [
    "***"
   ]
  },
  {
   "cell_type": "markdown",
   "metadata": {
    "pycharm": {
     "name": "#%% md\n"
    }
   },
   "source": [
    "# Hypothesis Testing"
   ]
  },
  {
   "cell_type": "markdown",
   "metadata": {
    "pycharm": {
     "name": "#%% md\n"
    }
   },
   "source": [
    "## <font color=#30a64d>Question</font>"
   ]
  },
  {
   "cell_type": "markdown",
   "metadata": {
    "pycharm": {
     "name": "#%% md\n"
    }
   },
   "source": [
    "A company releases a new ski wax that it claims (naturally) is superior to its rivals, and greatly reduces the friction between skis and snow. A skiing magazine decides to test the claim by performing an experiment. They take 10 pairs of skis, and treat one ski from each pair -- the left one -- with the new wax, and the other (the right) ski with the wax from a competing brand. Each pair of skis are then released from the top of a ramp in turn, and they record which of the two skis reach the bottom of the ramp first.    The team find that the new skis win 8 of the 10 races.  Is their claim correct?"
   ]
  },
  {
   "cell_type": "markdown",
   "metadata": {
    "pycharm": {
     "name": "#%% md\n"
    }
   },
   "source": [
    "### Answer"
   ]
  },
  {
   "cell_type": "code",
   "execution_count": 1,
   "outputs": [
    {
     "name": "stdout",
     "output_type": "stream",
     "text": [
      "probability of the new waxed skis winning 8/10 races if null hypothesis true = 0.043945.\n",
      "probability of the new waxed skis winning 8 or more races if null hypothesis true = 0.054688.\n",
      "probability given null hypothesis is more than 5% therefore cannot reject the null hypothesis with a significance value of 0.05\n"
     ]
    }
   ],
   "source": [
    "import math\n",
    "\n",
    "def Binom_Prob(N_successes, N_trials, Prob_success):\n",
    "    binom_coeff = math.factorial(N_trials)/(math.factorial(N_successes)*math.factorial(abs(N_trials - N_successes)))\n",
    "    return binom_coeff*(Prob_success**N_successes) * (1 - Prob_success)**(N_trials-N_successes)\n",
    "\n",
    "# null hypothesis: equal probability of either the new or old waxed skis winning the race\n",
    "# therefore p(new) = p(old) = 0.5\n",
    "\n",
    "p = 0.5\n",
    "#successes\n",
    "nu = 8\n",
    "#trials\n",
    "N=10\n",
    "\n",
    "print(\"probability of the new waxed skis winning 8/10 races if null hypothesis true = {:.6f}.\".format(Binom_Prob(nu,N,p)))\n",
    "\n",
    "# we need the prob they won 8, 9 or 10 races\n",
    "prob_sum = 0\n",
    "nu_list = [8,9,10]\n",
    "for i in range(len(nu_list)):\n",
    "    prob_sum += Binom_Prob(nu_list[i], N, p)\n",
    "print(\"probability of the new waxed skis winning 8 or more races if null hypothesis true = {:.6f}.\".format(prob_sum))\n",
    "\n",
    "print(\"probability given null hypothesis is more than 5% therefore cannot reject the null hypothesis with a significance value of 0.05\")"
   ],
   "metadata": {
    "collapsed": false,
    "pycharm": {
     "name": "#%%\n"
    },
    "ExecuteTime": {
     "end_time": "2023-12-12T10:54:57.919955300Z",
     "start_time": "2023-12-12T10:54:57.911065Z"
    }
   }
  },
  {
   "cell_type": "markdown",
   "metadata": {
    "pycharm": {
     "name": "#%% md\n"
    }
   },
   "source": [
    "***"
   ]
  }
 ],
 "metadata": {
  "kernelspec": {
   "display_name": "Python 3 (ipykernel)",
   "language": "python",
   "name": "python3"
  },
  "language_info": {
   "codemirror_mode": {
    "name": "ipython",
    "version": 3
   },
   "file_extension": ".py",
   "mimetype": "text/x-python",
   "name": "python",
   "nbconvert_exporter": "python",
   "pygments_lexer": "ipython3",
   "version": "3.9.13"
  }
 },
 "nbformat": 4,
 "nbformat_minor": 2
}
