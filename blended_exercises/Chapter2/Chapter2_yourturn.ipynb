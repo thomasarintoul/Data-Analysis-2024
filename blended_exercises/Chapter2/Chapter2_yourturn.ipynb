{
 "cells": [
  {
   "cell_type": "markdown",
   "metadata": {},
   "source": [
    "# To be completed at the Live Session and in your own time.\n",
    "\n",
    "These set of examples we will help you get familiar with estimating probabilities and using Bayes Theorem within a Jupyter notebook. The questions coloured green are important practice for CA.\n",
    "\n",
    "Before attempting these examples, please ensure you have read through [Chapter 2 Jupyter Notebook](https://github.com/haleygomez/Data-Analysis-2024/blob/master/blended_exercises/Chapter2/Chapter2.ipynb) and have completed the Learning Central **Chapter 2 quiz**. \n",
    "\n",
    "These are good practice for CA 1 Questions 1 and 4."
   ]
  },
  {
   "cell_type": "markdown",
   "metadata": {},
   "source": [
    "***"
   ]
  },
  {
   "cell_type": "markdown",
   "metadata": {},
   "source": [
    "# Probabilities"
   ]
  },
  {
   "cell_type": "markdown",
   "metadata": {},
   "source": [
    "***"
   ]
  },
  {
   "cell_type": "markdown",
   "metadata": {},
   "source": [
    "## Question"
   ]
  },
  {
   "cell_type": "markdown",
   "metadata": {},
   "source": [
    "You want to send a document to your bank and it is very important it gets there the next day. You therefore send two copies of the document using Hermes (delivery service $A$) and the Royal Mail (delivery service $B$).  The probabilities of those companies delivering on time are:\n",
    "\n",
    "- 0.90 for service A\n",
    "- 0.80 for service B \n",
    "- 0.75 for both services being on time.\n",
    "\n",
    "Does your strategy improve the chances the document will be delivered on time? "
   ]
  },
  {
   "cell_type": "markdown",
   "metadata": {},
   "source": [
    "### Answer"
   ]
  },
  {
   "cell_type": "code",
   "execution_count": 2,
   "outputs": [
    {
     "name": "stdout",
     "output_type": "stream",
     "text": [
      "To determine if this strategy will improve the chances of this document arriving on time, I need the probability of either A or B arriving on time. Therefore I need to calculate the Union of A and B.\n",
      "Probability of either A or B arriving on time = 0.80\n",
      "Probability of A or B arriving on time is higher than both A and B individually, so we have improved the chance of the document being delivered on time.\n"
     ]
    }
   ],
   "source": [
    "p_a = 0.9\n",
    "p_b = 0.8\n",
    "p_a_and_b = 0.75\n",
    "\n",
    "print('To determine if this strategy will improve the chances of this document arriving on time, I need the probability of either A or B arriving on time. Therefore I need to calculate the Union of A and B.')\n",
    "\n",
    "def union(pA, pB, intAB):\n",
    "    '''\n",
    "    :param pA: Probability of event A\n",
    "    :param pB: Probability of event B\n",
    "    :param intAB: Intersection of A and B (Prob of A and B)\n",
    "    :return: Union of A and B, the probability of either A or B\n",
    "    '''\n",
    "    A_U_B = pA + pB - intAB\n",
    "    return A_U_B\n",
    "\n",
    "unionAB = union(p_a, p_b, p_a)\n",
    "\n",
    "print('Probability of either A or B arriving on time = {:.2f}'.format(unionAB))\n",
    "print('Probability of A or B arriving on time is higher than both A and B individually, so we have improved the chance of the document being delivered on time.')"
   ],
   "metadata": {
    "collapsed": false
   }
  },
  {
   "cell_type": "markdown",
   "metadata": {},
   "source": [
    "***"
   ]
  },
  {
   "cell_type": "markdown",
   "metadata": {},
   "source": [
    "## <font color=#30a64d>Question</font>"
   ]
  },
  {
   "cell_type": "markdown",
   "metadata": {},
   "source": [
    "You flip a coin 5 times. What is the probability that heads will not occur 3 times?    "
   ]
  },
  {
   "cell_type": "markdown",
   "metadata": {},
   "source": [
    "### Answer"
   ]
  },
  {
   "cell_type": "code",
   "execution_count": 5,
   "outputs": [
    {
     "name": "stdout",
     "output_type": "stream",
     "text": [
      "Probability of not getting 3 heads when tossing a coin 5 times = 0.69\n"
     ]
    }
   ],
   "source": [
    "p_heads = 0.5\n",
    "\n",
    "N_tosses = 5\n",
    "N_outcomes = 2**N_tosses\n",
    "outcomes_3h = 10\n",
    "\n",
    "p_3h = outcomes_3h/N_outcomes\n",
    "\n",
    "p_not_3h = 1-p_3h\n",
    "print('Probability of not getting 3 heads when tossing a coin 5 times = {:.2f}'.format(p_not_3h))"
   ],
   "metadata": {
    "collapsed": false
   }
  },
  {
   "cell_type": "markdown",
   "metadata": {},
   "source": [
    "***"
   ]
  },
  {
   "cell_type": "markdown",
   "metadata": {},
   "source": [
    "# Bayes Theorem"
   ]
  },
  {
   "cell_type": "markdown",
   "metadata": {},
   "source": [
    "## <font color=#30a64d>Question</font>"
   ]
  },
  {
   "cell_type": "markdown",
   "metadata": {},
   "source": [
    "Suppose you think you have a rare disease where 1 in 10,000 people are affected. You go to your doctor, and she performs a test. The test is of a high quality, and is correct 99% of the time.\n",
    "\n",
    "Unfortunately your results come back positive for the disease. What is your chance of having the disease? Is it (roughly): <br><br>\n",
    "\n",
    "a) 99% <br>\n",
    "b) 90% <br>\n",
    "c) 10% or <br>\n",
    "d) 1%? <br> <br>\n",
    "\n",
    "Repeat the same as above, but change 1 in 10,000 to 1 in 100. What would the chances of having the disease be now?"
   ]
  },
  {
   "cell_type": "markdown",
   "metadata": {},
   "source": [
    "### Answer"
   ]
  },
  {
   "cell_type": "code",
   "execution_count": 15,
   "outputs": [
    {
     "name": "stdout",
     "output_type": "stream",
     "text": [
      "The probability of being infected given a general infection rate of 1 in 10,000 and a test that is 99% effective = 0.01\n",
      "The probability of being infected given a general infection rate of 1 in 100 and a test that is 99% effective = 0.50\n"
     ]
    }
   ],
   "source": [
    "def Bayes(pba,pa,pb):\n",
    "    return pba * pa/ pb\n",
    "\n",
    "pA = 1./10000.  # prob random person has disease\n",
    "p_notA = 1-pA   # prob random person does not have disease\n",
    "\n",
    "pBA = 0.99      # prob of testing positive given you have the disease\n",
    "pBAc = 1 - pBA  # prob of testing positive given you don't have the disease\n",
    "\n",
    "pB = pBA * pA + pBAc * p_notA   # probability of testing positive with a 99% accurate test\n",
    "\n",
    "prob_infected = Bayes(pBA, pA, pB)\n",
    "\n",
    "print(\"The probability of being infected given a general infection rate of 1 in 10,000 and a test that is 99% effective = {:.2f}\".format(prob_infected))\n",
    "\n",
    "pA = 1./100.  # prob random person has disease\n",
    "p_notA = 1-pA   # prob random person does not have disease\n",
    "\n",
    "pBA = 0.99      # prob of testing positive given you have the disease\n",
    "pBAc = 1 - pBA  # prob of testing positive given you don't have the disease\n",
    "\n",
    "pB = pBA * pA + pBAc * p_notA   # probability of testing positive with a 99% accurate test\n",
    "\n",
    "\n",
    "prob_infected = Bayes(pBA, pA, pB)\n",
    "\n",
    "print(\"The probability of being infected given a general infection rate of 1 in 100 and a test that is 99% effective = {:.2f}\".format(prob_infected))\n"
   ],
   "metadata": {
    "collapsed": false
   }
  },
  {
   "cell_type": "markdown",
   "metadata": {},
   "source": [
    "## Question"
   ]
  },
  {
   "cell_type": "markdown",
   "metadata": {},
   "source": [
    "We saw in [Chapter 2 Notebook](https://github.com/haleygomez/Data-Analysis-2024/blob/master/blended_exercises/Chapter2/Chapter2.ipynb) that the probability that a couple has 2 children that are boys when the older child is a boy is 50%. \n",
    "\n",
    "What about the following scenario: a couple has two children, of which at least one is a boy. If the probabilities of having a boy or a girl are both 50%, what is the probability that the couple has two boys?\n",
    "\n",
    "At first glance, this appears to be asking the same question as in our previous notebook. We might reason as follows: “We know that one is a boy, so the only question is whether the other one is a boy, and the chances of that being the case are 50%. So again, the answer is 50%.”\n",
    "\n",
    "Although this sounds common sense, it is incorrect.  Show why."
   ]
  },
  {
   "cell_type": "markdown",
   "metadata": {},
   "source": [
    "### Answer"
   ]
  },
  {
   "cell_type": "code",
   "execution_count": 19,
   "outputs": [
    {
     "name": "stdout",
     "output_type": "stream",
     "text": [
      "Probability of a couple with 2 children having 2 boys given we know they have one boy = 0.33.\n"
     ]
    }
   ],
   "source": [
    "# Possible outcomes - BB, BG, GB and GG\n",
    "# Possible Events\n",
    "# A = both boys\n",
    "# B = older child is a boy\n",
    "# C = one of their children is a boy\n",
    "\n",
    "p_A = 1./4.\n",
    "p_C = 3./4.\n",
    "\n",
    "p_CA = 1.\n",
    "\n",
    "def Bayes(pba,pa,pb):\n",
    "    return pba * pa/ pb\n",
    "\n",
    "print(\"Probability of a couple with 2 children having 2 boys given we know they have one boy = {:.2f}.\".format(Bayes(p_CA, p_A, p_C)))"
   ],
   "metadata": {
    "collapsed": false
   }
  }
 ],
 "metadata": {
  "kernelspec": {
   "display_name": "Python 3 (ipykernel)",
   "language": "python",
   "name": "python3"
  },
  "language_info": {
   "codemirror_mode": {
    "name": "ipython",
    "version": 3
   },
   "file_extension": ".py",
   "mimetype": "text/x-python",
   "name": "python",
   "nbconvert_exporter": "python",
   "pygments_lexer": "ipython3",
   "version": "3.9.13"
  }
 },
 "nbformat": 4,
 "nbformat_minor": 2
}
