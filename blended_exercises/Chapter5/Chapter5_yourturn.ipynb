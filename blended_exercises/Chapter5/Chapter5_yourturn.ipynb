{
 "cells": [
  {
   "cell_type": "markdown",
   "metadata": {},
   "source": [
    "# To be completed at the Live Session and in your own time.\n",
    "\n",
    "These set of examples we will help you get familiar with non parametric tests and correlations within a Jupyter notebook.   The questions coloured green are important practice for CA, particularly Question 5.\n",
    "\n",
    "Before attempting these examples, please ensure you have read through [Chapter 5 Jupyter Notebook](https://github.com/haleygomez/Data-Analysis-2024/blob/master/blended_exercises/Chapter5/Chapter5.ipynb) and have completed the Learning Central **Chapter 5 quiz**. "
   ]
  },
  {
   "cell_type": "markdown",
   "metadata": {},
   "source": [
    "***"
   ]
  },
  {
   "cell_type": "markdown",
   "metadata": {},
   "source": [
    "#  Hypothesis Testing"
   ]
  },
  {
   "cell_type": "markdown",
   "metadata": {},
   "source": [
    "## <font color=#30a64d>Question</font>"
   ]
  },
  {
   "cell_type": "markdown",
   "metadata": {},
   "source": [
    "In the previous week, we used the datafile [worldpopulation.txt](https://github.com/haleygomez/Data-Analysis-2024/raw/master/blended_exercises/Chapter4/worldpopulation.txt) to estimate the correlation between the world population size measured over time. \n",
    "\n",
    "1. Measure the correlation coefficient using the in built Python package for the Spearman $\\rho$ statistic. \n",
    "\n",
    "2. Measure it again but this time creating the functions to calculate $\\rho$ from scratch.   You can use the in-built function to rank datasets from scipy.stats: `from scipy.stats import rankdata`."
   ]
  },
  {
   "cell_type": "markdown",
   "metadata": {},
   "source": [
    "### Answer"
   ]
  },
  {
   "cell_type": "code",
   "execution_count": 17,
   "outputs": [
    {
     "name": "stdout",
     "output_type": "stream",
     "text": [
      "Scipy spearman rho test gives correlation coefficient = 1.000.\n",
      "Own spearman rho test gives correlation coefficient = 1.000.\n"
     ]
    }
   ],
   "source": [
    "import numpy as np\n",
    "from scipy.stats import spearmanr, rankdata\n",
    "\n",
    "pop_data = np.loadtxt(\"../Chapter4/worldpopulation.txt\")\n",
    "time = pop_data[0,:]\n",
    "people = pop_data[1,:]\n",
    "\n",
    "print(\"Scipy spearman rho test gives correlation coefficient = {:.3f}.\".format(spearmanr(time, people)[0]))\n",
    "\n",
    "def spearman_own(data1, data2):\n",
    "    if len(data1) != len(data2):\n",
    "        print(\"data not of equal length\")\n",
    "        exit\n",
    "    Rank1 = rankdata(data1)\n",
    "    Rank2 = rankdata(data2)\n",
    "    N = len(data1)\n",
    "\n",
    "    sum_R1R2 = np.sum(Rank1*Rank2)\n",
    "    sum_R1sq = np.sum(Rank1**2)\n",
    "    sum_R2sq = np.sum(Rank2**2)\n",
    "    N_factor = (N * (N + 1)**2)/4\n",
    "\n",
    "    numerator = sum_R1R2 - N_factor\n",
    "    denom_1 = np.sqrt(sum_R1sq - N_factor)\n",
    "    denom_2 = np.sqrt(sum_R2sq - N_factor)\n",
    "\n",
    "    rho = numerator/(denom_1 * denom_2)\n",
    "    return rho\n",
    "\n",
    "print(\"Own spearman rho test gives correlation coefficient = {:.3f}.\".format(spearman_own(time, people)))\n"
   ],
   "metadata": {
    "collapsed": false
   }
  },
  {
   "cell_type": "markdown",
   "metadata": {},
   "source": [
    "***"
   ]
  },
  {
   "cell_type": "markdown",
   "metadata": {},
   "source": [
    "# KS Test"
   ]
  },
  {
   "cell_type": "markdown",
   "metadata": {},
   "source": [
    "## Question"
   ]
  },
  {
   "cell_type": "markdown",
   "metadata": {},
   "source": [
    "Two near-by apple trees are in bloom in an otherwise empty field. One is a Whitney Crab the other is a Redwell. We want to test if bees prefer one tree to the other.\n",
    "\n",
    "To do this we collect data. We use a stop watch to time how long a bee stays near a particular tree. We begin to time when the bee touches the tree, we stop timing when the bee is more than a metre from the tree. Unfortunately we did not get exactly the same number of bees for each tree as it started to rain.   The data is below (time is in seconds). Can we conclude anything based on our experiment?\n",
    "\n",
    "redwell= 23.4, 30.9, 18.8, 23.0, 21.4, 1, 24.6, 23.8, 24.1, 18.7, 16.3, 20.3, 14.9, 35.4, 21.6, 21.2, 21.0, 15.0, 15.6, 24.0, 34.6, 40.9, 30.7, 24.5, 16.6, 1, 21.7, 1, 23.6, 1, 25.7, 19.3, 46.9, 23.3, 21.8, 33.3, 24.9, 24.4, 1, 19.8, 17.2, 21.5, 25.5, 23.3, 18.6, 22.0, 29.8, 33.3, 1, 21.3, 18.6, 26.8, 19.4, 21.1, 21.2, 20.5, 19.8, 26.3, 39.3, 21.4, 22.6, 1, 35.3, 7.0, 19.3, 21.3, 10.1, 20.2, 1, 36.2, 16.7, 21.1, 39.1, 19.9, 32.1, 23.1, 21.8, 30.4, 19.62, 15.5 \n",
    "\n",
    "whitney=16.5, 1, 22.6, 25.3, 23.7, 1, 23.3, 23.9, 16.2, 23.0, 21.6, 10.8, 12.2, 23.6, 10.1, 24.4, 16.4, 11.7, 17.7, 34.3, 24.3, 18.7, 27.5, 25.8, 22.5, 14.2, 21.7, 1, 31.2, 13.8, 29.7, 23.1, 26.1, 25.1, 23.4, 21.7, 24.4, 13.2, 22.1, 26.7, 22.7, 1, 18.2, 28.7, 29.1, 27.4, 22.3, 13.2, 22.5, 25.0, 1, 6.6, 23.7, 23.5, 17.3, 24.6, 27.8, 29.7, 25.3, 19.9, 18.2, 26.2, 20.4, 23.3, 26.7, 26.0, 1, 25.1, 33.1, 35.0, 25.3, 23.6, 23.2, 20.2, 24.7, 22.6, 39.1, 26.5, 22.7"
   ]
  },
  {
   "cell_type": "markdown",
   "metadata": {},
   "source": [
    "### Answer"
   ]
  },
  {
   "cell_type": "code",
   "execution_count": 22,
   "outputs": [
    {
     "data": {
      "text/plain": "<Figure size 600x600 with 1 Axes>",
      "image/png": "[encoded data removed]"
     },
     "metadata": {},
     "output_type": "display_data"
    },
    {
     "name": "stdout",
     "output_type": "stream",
     "text": [
      "D = 0.220\n",
      "p = 0.034\n"
     ]
    }
   ],
   "source": [
    "import matplotlib.pyplot as plt\n",
    "\n",
    "redwell = [23.4, 30.9, 18.8, 23.0, 21.4, 1, 24.6, 23.8, 24.1, 18.7, 16.3, 20.3, 14.9, 35.4, 21.6, 21.2, 21.0, 15.0, 15.6, 24.0, 34.6, 40.9, 30.7, 24.5, 16.6, 1, 21.7, 1, 23.6, 1, 25.7, 19.3, 46.9, 23.3, 21.8, 33.3, 24.9, 24.4, 1, 19.8, 17.2, 21.5, 25.5, 23.3, 18.6, 22.0, 29.8, 33.3, 1, 21.3, 18.6, 26.8, 19.4, 21.1, 21.2, 20.5, 19.8, 26.3, 39.3, 21.4, 22.6, 1, 35.3, 7.0, 19.3, 21.3, 10.1, 20.2, 1, 36.2, 16.7, 21.1, 39.1, 19.9, 32.1, 23.1, 21.8, 30.4, 19.62, 15.5]\n",
    "\n",
    "whitney = [16.5, 1, 22.6, 25.3, 23.7, 1, 23.3, 23.9, 16.2, 23.0, 21.6, 10.8, 12.2, 23.6, 10.1, 24.4, 16.4, 11.7, 17.7, 34.3, 24.3, 18.7, 27.5, 25.8, 22.5, 14.2, 21.7, 1, 31.2, 13.8, 29.7, 23.1, 26.1, 25.1, 23.4, 21.7, 24.4, 13.2, 22.1, 26.7, 22.7, 1, 18.2, 28.7, 29.1, 27.4, 22.3, 13.2, 22.5, 25.0, 1, 6.6, 23.7, 23.5, 17.3, 24.6, 27.8, 29.7, 25.3, 19.9, 18.2, 26.2, 20.4, 23.3, 26.7, 26.0, 1, 25.1, 33.1, 35.0, 25.3, 23.6, 23.2, 20.2, 24.7, 22.6, 39.1, 26.5, 22.7]\n",
    "\n",
    "def cdf(x):\n",
    "    xs = np.sort(x)\n",
    "    ys = np.arange(1, len(xs)+1)/float(len(xs))\n",
    "    return xs, ys\n",
    "\n",
    "r_t, r_cdf = cdf(redwell)\n",
    "w_t, w_cdf = cdf(whitney)\n",
    "\n",
    "plt.figure(figsize=(6,6))\n",
    "plt.plot(r_t, r_cdf)\n",
    "plt.plot(w_t, w_cdf)\n",
    "plt.show()\n",
    "\n",
    "from scipy.stats import ks_2samp\n",
    "\n",
    "corr, sig = ks_2samp(redwell, whitney)\n",
    "print(\"D = {:.3f}\".format(corr))\n",
    "print(\"p = {:.3f}\".format(sig))\n",
    "print(\"p-value is less than 0.05 so we can reject the null hypothesis that there is no difference between the sample.\")"
   ],
   "metadata": {
    "collapsed": false
   }
  },
  {
   "cell_type": "code",
   "execution_count": 28,
   "outputs": [
    {
     "name": "stdout",
     "output_type": "stream",
     "text": [
      "0.0889768163356804\n",
      "0.012499999999999956 0.9999999999999998\n"
     ]
    }
   ],
   "source": [
    "# Writing my own KS function\n",
    "\n",
    "## this didn't work :(\n",
    "\n",
    "def cdf(x):\n",
    "    xs = np.sort(x)\n",
    "    ys = np.arange(1, len(xs)+1)/float(len(xs))\n",
    "    return xs, ys\n",
    "\n",
    "def K_lambda(lam):\n",
    "    j = np.arange(1,99)\n",
    "    sum_arg = 0\n",
    "    for i in range(len(j)):\n",
    "        sum_arg += (-1)**(j[i]-1) * np.exp(-2 * j[i]**2 * lam**2)\n",
    "    K = 2 * sum_arg\n",
    "    return K\n",
    "\n",
    "def KS_D(cdf1, cdf2):\n",
    "    L = min(len(cdf1), len(cdf2))\n",
    "    D_arr = np.abs(cdf1[:L] - cdf2[:L])\n",
    "    D_max = max(D_arr)\n",
    "    return D_max\n",
    "\n",
    "r_t, r_cdf = cdf(redwell)\n",
    "w_t, w_cdf = cdf(whitney)\n",
    "\n",
    "D = KS_D(r_cdf, w_cdf)\n",
    "\n",
    "def N_e(data1, data2):\n",
    "    N1 = len(data1)\n",
    "    N2 = len(data2)\n",
    "    Ne = N1*N2/(N1 + N2)\n",
    "    return Ne\n",
    "\n",
    "Ne = N_e(redwell,whitney)\n",
    "\n",
    "K_arg = (np.sqrt(Ne) + 0.12 + 0.11*np.sqrt(Ne))*D\n",
    "print(K_arg)\n",
    "p = K_lambda(K_arg)\n",
    "\n",
    "print (D, p)"
   ],
   "metadata": {
    "collapsed": false
   }
  },
  {
   "cell_type": "markdown",
   "metadata": {},
   "source": [
    "***"
   ]
  },
  {
   "cell_type": "markdown",
   "metadata": {},
   "source": [
    "# Chi-square test"
   ]
  },
  {
   "cell_type": "markdown",
   "metadata": {},
   "source": [
    "## Question "
   ]
  },
  {
   "cell_type": "markdown",
   "metadata": {},
   "source": [
    "You publish flyers for an event in three different colours and want to test whether the colour has a significant effect on whether people take them. The data is available below.  Use the $\\chi^2$ test to do this, and calculate the probability of the significance of the result.\n",
    "\n",
    "| |white | light blue | neon pink | Totals|\n",
    "|---|---|---|---|---|\n",
    "|Take | 32| 38 | 20| 90| \n",
    "|Don't take | 8| 22 |30 | 60| \n",
    "|Totals | 40|60 | 50| 150| "
   ]
  },
  {
   "cell_type": "markdown",
   "metadata": {},
   "source": [
    "### Answer"
   ]
  },
  {
   "cell_type": "code",
   "execution_count": 52,
   "outputs": [
    {
     "name": "stdout",
     "output_type": "stream",
     "text": [
      "[24. 16. 36. 24. 30. 20.]\n",
      "15.277777777777777\n"
     ]
    }
   ],
   "source": [
    "def chi_sq(obs, exp):\n",
    "    chi_sum = 0\n",
    "    for k in range(len(obs)):\n",
    "        chi_sum += ((obs[k] - exp[k])**2)/exp[k]\n",
    "    return chi_sum\n",
    "\n",
    "white = [32,8]\n",
    "blue = [38,22]\n",
    "pink = [20,30]\n",
    "\n",
    "data = np.asarray((white, blue, pink)) # indexed by colour, yes/no in colour order, white, blue, pink\n",
    "\n",
    "total_opt1 = np.sum(data[0,:])\n",
    "total_opt2 = np.sum(data[1,:])\n",
    "total_opt3 = np.sum(data[2,:])\n",
    "total = total_opt1 + total_opt2 + total_opt3\n",
    "\n",
    "prop_opt1 = total_opt1/total\n",
    "prop_opt2 = total_opt2/total\n",
    "prop_opt3 = total_opt3/total\n",
    "\n",
    "total_res1 = np.sum(data[:,0])\n",
    "total_res2 = np.sum(data[:,1])\n",
    "\n",
    "expected = np.array(([prop_opt1*total_res1, prop_opt1*total_res2],\n",
    "                      [prop_opt2*total_res1, prop_opt2*total_res2],\n",
    "                      [prop_opt3*total_res1, prop_opt3*total_res2]))\n",
    "\n",
    "data = data.flatten()\n",
    "expected = expected.flatten()\n",
    "\n",
    "print(chi_sq(data, expected))"
   ],
   "metadata": {
    "collapsed": false
   }
  },
  {
   "cell_type": "markdown",
   "metadata": {},
   "source": [
    "***"
   ]
  }
 ],
 "metadata": {
  "kernelspec": {
   "display_name": "Python 3 (ipykernel)",
   "language": "python",
   "name": "python3"
  },
  "language_info": {
   "codemirror_mode": {
    "name": "ipython",
    "version": 3
   },
   "file_extension": ".py",
   "mimetype": "text/x-python",
   "name": "python",
   "nbconvert_exporter": "python",
   "pygments_lexer": "ipython3",
   "version": "3.9.13"
  }
 },
 "nbformat": 4,
 "nbformat_minor": 2
}
