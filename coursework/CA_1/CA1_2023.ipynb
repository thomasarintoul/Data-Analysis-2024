{
 "cells": [
  {
   "attachments": {},
   "cell_type": "markdown",
   "metadata": {},
   "source": [
    "# Data Analysis - Coursework 1 (35%)\n",
    "\n",
    "***\n",
    "\n",
    "Short Style Data Analysis Questions\n",
    "Deadline Thursday week 6, 2pm."
   ]
  },
  {
   "cell_type": "markdown",
   "metadata": {},
   "source": [
    "***"
   ]
  },
  {
   "cell_type": "markdown",
   "metadata": {},
   "source": [
    "**INSTRUCTIONS**"
   ]
  },
  {
   "cell_type": "markdown",
   "metadata": {},
   "source": [
    "This coursework assesses learning outcomes from Chapters 1 - 4 of the course."
   ]
  },
  {
   "cell_type": "markdown",
   "metadata": {},
   "source": [
    "**These assessments are equivalent to an exam**:\n",
    "- Submit your work via Turn-It-In on Learning Central. **Note that you will need to upload your final notebook exported as a pdf.** Don't forget to execute all of your cells before you export the notebook to pdf. You can constantly resubmit your turnitin document until the deadline.\n",
    "- Don't worry about how your code looks - marks are not given for pretty code, but rather for the approach used in solving the problem, your reasoning, explanation and answer.\n",
    "- Please also take note of the University’s policy on **plagiarism**, which is outlined in your student handbook."
   ]
  },
  {
   "attachments": {},
   "cell_type": "markdown",
   "metadata": {},
   "source": [
    "**AIMS OF THE ASSESSMENT**\n",
    "\n",
    "The assessment will evidence your ability to synthesise the tools provided during weeks 1-5 and how you communicate it to the audience.\n",
    "\n",
    "\n",
    "1.\tAbility to identify the correct statistical method with sound reasoning.\n",
    "2.\tEvidence of knowledge of the assumptions made or infered from the question.\n",
    "3.\tApplication of the statistical method, including correct treatment of the given / inferred data. \n",
    "4.\tCritical explanations and interpretation of the results, ability to turn raw data into a statistically correct statement\n",
    "\n",
    "Specific requirements and guidance\n",
    "\n",
    "- For short-form questions (for example question 1 on CA 1), marks are given in steps for the correct answer and reasoning. \n",
    "- In longer form questions there are a small proportion of marks allocated for additional work beyond the basic principles outlined in the question. This is intended to recognise student work that goes beyond the basic investigation and shows evidence of insight and use of appropriate tools. \n",
    "\n",
    "\n",
    "Major lapses \n",
    "\n",
    "- Full marks cannot be awarded if there is no explanation or justification of the method/approach/equations/statistical tool used. \n",
    "- If the question is answered correctly but there is no explanation of the reasoning being used to answer the question, the maximum mark that can be awarded for that (sub)question is 60%. \n",
    "- If the question is correct with explanations and steps explained but there are no details of the code to get that answer, the maximum mark that can be awarded for that (sub)question is 50%."
   ]
  },
  {
   "cell_type": "markdown",
   "metadata": {},
   "source": [
    "***"
   ]
  },
  {
   "cell_type": "markdown",
   "metadata": {},
   "source": [
    "## QUESTION 1"
   ]
  },
  {
   "cell_type": "markdown",
   "metadata": {},
   "source": [
    "A student is taking three modules, and the probability that they pass any individual module depends on the fraction of the weekly live sessions they attend $f$ so that the probability of passing the module is 0.8$f$. \n",
    "\n",
    "a.) If the student attends all the weekly live sessions, ($f =1$), calculate the probability that they\n",
    "will \n",
    "\n",
    "    (i) pass all three modules, \n",
    "    (ii) fail one module and pass the other two \n",
    "    (iii) pass only one module, \n",
    "    (iv) pass no modules. \n",
    "\n",
    "b.) Show that the sum of these four probabilities is 1.\n",
    "\n",
    "c.) Calculate the four probabilities on the assumption that the student attends only\n",
    "half of the weekly live sessions.\n",
    "\n",
    "d.) What fraction of weekly live sessions must the student attend to have a 50% chance of\n",
    "passing all three modules? \n",
    "\n",
    "e.) Is this a realistic way to model the probability that the student will pass the\n",
    "modules?\n",
    "\n",
    "**[10 marks]**"
   ]
  },
  {
   "cell_type": "code",
   "execution_count": 12,
   "outputs": [
    {
     "name": "stdout",
     "output_type": "stream",
     "text": [
      "The probability that the student passes 3 modules is: 0.51\n",
      "The probability that the student passes 2 modules is: 0.38\n",
      "The probability that the student passes 1 module is:  0.10\n",
      "The probability that the student passes 0 modules is: 0.01\n"
     ]
    }
   ],
   "source": [
    "# Q1a\n",
    "import math\n",
    "\n",
    "f = 1\n",
    "prob_pass = 0.8 * f\n",
    "\n",
    "def Binom_Prob(N_successes, N_trials, Prob_success):\n",
    "    binom_coeff = math.factorial(N_trials)/(math.factorial(N_successes)*math.factorial(abs(N_trials - N_successes)))\n",
    "    return binom_coeff*(Prob_success**N_successes) * (1 - Prob_success)**(N_trials-N_successes)\n",
    "\n",
    "prob_3pass = Binom_Prob(3,3,prob_pass)\n",
    "print(\"The probability that the student passes 3 modules is: {:.2f}\".format(prob_3pass))\n",
    "\n",
    "prob_2pass = Binom_Prob(2,3,prob_pass)\n",
    "print(\"The probability that the student passes 2 modules is: {:.2f}\".format(prob_2pass))\n",
    "\n",
    "prob_1pass = Binom_Prob(1,3,prob_pass)\n",
    "print(\"The probability that the student passes 1 module is:  {:.2f}\".format(prob_1pass))\n",
    "\n",
    "prob_0pass = Binom_Prob(0,3,prob_pass)\n",
    "print(\"The probability that the student passes 0 modules is: {:.2f}\".format(prob_0pass))"
   ],
   "metadata": {
    "collapsed": false,
    "ExecuteTime": {
     "end_time": "2023-12-05T14:02:39.727741100Z",
     "start_time": "2023-12-05T14:02:39.707730400Z"
    }
   }
  },
  {
   "cell_type": "code",
   "execution_count": 13,
   "outputs": [
    {
     "name": "stdout",
     "output_type": "stream",
     "text": [
      "Total Probability: 1.00\n"
     ]
    }
   ],
   "source": [
    "# Q1b\n",
    "\n",
    "total_prob = prob_3pass + prob_2pass + prob_1pass + prob_0pass\n",
    "print(\"Total Probability: {:.2f}\".format(total_prob))"
   ],
   "metadata": {
    "collapsed": false,
    "ExecuteTime": {
     "end_time": "2023-12-05T14:02:40.262433400Z",
     "start_time": "2023-12-05T14:02:40.247429900Z"
    }
   }
  },
  {
   "cell_type": "code",
   "execution_count": 14,
   "outputs": [
    {
     "name": "stdout",
     "output_type": "stream",
     "text": [
      "The probability that the student passes 3 modules is: 0.06\n",
      "The probability that the student passes 2 modules is: 0.29\n",
      "The probability that the student passes 1 module is:  0.43\n",
      "The probability that the student passes 0 modules is: 0.22\n",
      "Total Probability: 1.00\n"
     ]
    }
   ],
   "source": [
    "#Q1c\n",
    "\n",
    "f = 0.5\n",
    "prob_pass = 0.8 * f\n",
    "\n",
    "prob_3pass = Binom_Prob(3,3,prob_pass)\n",
    "print(\"The probability that the student passes 3 modules is: {:.2f}\".format(prob_3pass))\n",
    "\n",
    "prob_2pass = Binom_Prob(2,3,prob_pass)\n",
    "print(\"The probability that the student passes 2 modules is: {:.2f}\".format(prob_2pass))\n",
    "\n",
    "prob_1pass = Binom_Prob(1,3,prob_pass)\n",
    "print(\"The probability that the student passes 1 module is:  {:.2f}\".format(prob_1pass))\n",
    "\n",
    "prob_0pass = Binom_Prob(0,3,prob_pass)\n",
    "print(\"The probability that the student passes 0 modules is: {:.2f}\".format(prob_0pass))\n",
    "\n",
    "total_prob = prob_3pass + prob_2pass + prob_1pass + prob_0pass\n",
    "print(\"Total Probability: {:.2f}\".format(total_prob))\n"
   ],
   "metadata": {
    "collapsed": false,
    "ExecuteTime": {
     "end_time": "2023-12-05T14:02:41.007127300Z",
     "start_time": "2023-12-05T14:02:40.986619600Z"
    }
   }
  },
  {
   "cell_type": "code",
   "execution_count": 34,
   "outputs": [
    {
     "name": "stdout",
     "output_type": "stream",
     "text": [
      "[ 0.03834679  3.35653503 -0.06635616]\n",
      "[[ 1.56076883e-06 -4.04065829e-05 -3.42776690e-06]\n",
      " [-4.04065829e-05  1.05728430e-03  8.61073001e-05]\n",
      " [-3.42776690e-06  8.61073001e-05  9.06221416e-06]]\n",
      "0.7935780076745932\n"
     ]
    },
    {
     "data": {
      "text/plain": "<matplotlib.legend.Legend at 0x214023d3460>"
     },
     "execution_count": 34,
     "metadata": {},
     "output_type": "execute_result"
    },
    {
     "data": {
      "text/plain": "<Figure size 640x480 with 1 Axes>",
      "image/png": "[encoded data removed]"
     },
     "metadata": {},
     "output_type": "display_data"
    }
   ],
   "source": [
    "# Q1d\n",
    "import numpy as np\n",
    "import matplotlib.pyplot as plt\n",
    "from scipy.optimize import curve_fit, fsolve\n",
    "'''To find the fraction f required for p_3pass to be 50%, we produce a probability density function for p_3pass and find f for p = 0.5'''\n",
    "\n",
    "f_space = np.linspace(0,1,200)\n",
    "\n",
    "def Binom_Prob(N_successes, N_trials, Prob_success):\n",
    "    binom_coeff = math.factorial(N_trials)/(math.factorial(N_successes)*math.factorial(abs(N_trials - N_successes)))\n",
    "    return binom_coeff*(Prob_success**N_successes) * (1 - Prob_success)**(N_trials-N_successes)\n",
    "\n",
    "p_space = Binom_Prob(3,3,f_space)\n",
    "\n",
    "def exponential(x,a,b,c):\n",
    "    return a * np.exp(b*x) + c\n",
    "\n",
    "\n",
    "def highordpoly(x,a0,a1,a2,a3,a4,a5,a6):\n",
    "    return a0 +a1 * x + a2 * x**2 + a3 * x**3 + a4 * x**4 + a5 * x**5 + a6 + x**6\n",
    "\n",
    "\n",
    "exp_coeff, exp_cov = curve_fit(exponential, f_space, p_space)\n",
    "\n",
    "print(exp_coeff)\n",
    "print(exp_cov)\n",
    "\n",
    "poly_coeff, poly_cov = curve_fit(highordpoly, f_space, p_space)\n",
    "\n",
    "\n",
    "\n",
    "def solve_highordpoly(x, *args):\n",
    "    return highordpoly(x, *args) - 0.5\n",
    "\n",
    "initial_guess = 0.7\n",
    "root = fsolve(solve_highordpoly, initial_guess, args=tuple(poly_coeff))\n",
    "print(root[0])\n",
    "\n",
    "\n",
    "plt.plot(f_space, p_space, label='data')\n",
    "plt.plot(f_space, exponential(f_space, *exp_coeff), label='expfit')\n",
    "plt.plot(f_space, highordpoly(f_space, *poly_coeff), label='polyfit')\n",
    "plt.axvline(x=root[0], color='crimson')\n",
    "plt.axhline(y=0.5, color='crimson')\n",
    "plt.legend(loc='upper left')"
   ],
   "metadata": {
    "collapsed": false,
    "ExecuteTime": {
     "end_time": "2023-12-05T14:34:04.181365900Z",
     "start_time": "2023-12-05T14:34:04.092829700Z"
    }
   }
  },
  {
   "cell_type": "markdown",
   "source": [
    "# Q1e\n",
    "\n",
    "This is not a good model for the probability of students passing these modules.\n",
    "\n",
    "It fails to account for the fact that in real degrees, modules are designed to work in tandem. It assumes that these modules are independent.\n",
    "It also assumes that the probability of passing each module is equally proportional to the attendance fraction. This may not be the case for a variety of factors including but not limited to: Teacher quality, difficulty of the module, student ability in different subject areas."
   ],
   "metadata": {
    "collapsed": false
   }
  },
  {
   "cell_type": "markdown",
   "metadata": {},
   "source": [
    "***"
   ]
  },
  {
   "cell_type": "markdown",
   "metadata": {},
   "source": [
    "##  QUESTION 2"
   ]
  },
  {
   "cell_type": "markdown",
   "metadata": {},
   "source": [
    "A group researching cancer have previously found that the genetic marker D3 is a useful indication that a person will develop the more aggressive form of melanoma skin cancer, in that D3 is present in 65% of the aggressive cases. However the test is expensive.  A rival group claim that the marker M23 is more sensitive than D3, and works out considerably cheaper to test for. The rival research team manage to get DNA samples from 7 patients with the aggressive form of the disease, all of whom test positive for the genetic marker M23. Based on these results, is M23 a better marker for the disease than D3? \n",
    "\n",
    "Give full mathematical working for your reasoning, and show labeled plots of the underlying functions.    \n",
    "\n",
    "**[20 marks]**"
   ]
  },
  {
   "cell_type": "markdown",
   "metadata": {},
   "source": [
    "**Answer:**"
   ]
  },
  {
   "cell_type": "markdown",
   "metadata": {},
   "source": [
    "***"
   ]
  },
  {
   "cell_type": "markdown",
   "metadata": {},
   "source": [
    "## QUESTION 3 "
   ]
  },
  {
   "cell_type": "markdown",
   "metadata": {},
   "source": [
    "A computer chip manufacturer suspects that roughly half of its latest batch of CPUs contains a flaw.  The accounts department are clearly concerned, and are trying to predict how the fault will affect the number of customers returning products. How many CPUs from the batch would they need to examine to know the probability that any given CPU is faulty to better than 2.5%?\n",
    "\n",
    "Tip: think carefully about what you are trying to estimate here, you want the *error in your success probability* to be less than 2.5%.\n",
    "\n",
    "**[15 marks]**"
   ]
  },
  {
   "cell_type": "markdown",
   "metadata": {},
   "source": [
    "***"
   ]
  },
  {
   "cell_type": "markdown",
   "metadata": {},
   "source": [
    "## QUESTION 4 "
   ]
  },
  {
   "cell_type": "markdown",
   "metadata": {},
   "source": [
    "The state of Florida is thinking of relaxing its policy on alcohol sales, to allow supermarkets to sell hard alcohol, since the police predict that this can reduce violence. After some extensive polling, they find that only 35% and 10% of Republican and Independent voters are, respectively, behind the change in the law, while 80% of the Democrat voters are in favour.  You are visiting the state, and ask a Police Officer what she thinks of the idea. They says they're against the change to the law. What is the probability that they votes Democrat?\n",
    "\n",
    "\n",
    "You may assume that voting in the Florida polls that year was split in the following way: 40% Democrat and 36% Republican. You can also assume that Independent covers everything that is not Republican or Democrat. \n",
    "\n",
    "**[25 marks]**"
   ]
  },
  {
   "cell_type": "markdown",
   "metadata": {},
   "source": [
    "***"
   ]
  },
  {
   "cell_type": "markdown",
   "metadata": {},
   "source": [
    "## QUESTION 5"
   ]
  },
  {
   "cell_type": "markdown",
   "metadata": {},
   "source": [
    "Ten new recruits for a basketball team are timed (in secs) in running the 100 meters and 1,500m races to determine how fast they can run. The following results were obtained,\n",
    "\n",
    "| Distance | 1 | 2 | 3 | 4 | 5 | 6 | 7 | 8 |9 | 10 |  \n",
    "| --- | --- | --- | --- | --- | --- | --- | --- | --- |--- |--- |\n",
    "| 100m: | 11 | 12 | 12 | 13 |13 | 15 |11 | 16 |11 | 12 |\n",
    "| 1500m: | 270 | 300 |230 | 260 |270 | 230 |260 | 240 | 270 | 260 |\n",
    "\n",
    "What trends do we see in the data above? Are they significant? Use appropriate tests to answer this question.\n",
    "\n",
    "Please **create your own** statistical functions when answering this question. Please include any sources you have used to answer this question.  \n",
    "\n",
    "**[30 marks]**"
   ]
  }
 ],
 "metadata": {
  "kernelspec": {
   "display_name": "Python 3 (ipykernel)",
   "language": "python",
   "name": "python3"
  },
  "language_info": {
   "codemirror_mode": {
    "name": "ipython",
    "version": 3
   },
   "file_extension": ".py",
   "mimetype": "text/x-python",
   "name": "python",
   "nbconvert_exporter": "python",
   "pygments_lexer": "ipython3",
   "version": "3.9.13"
  }
 },
 "nbformat": 4,
 "nbformat_minor": 2
}
